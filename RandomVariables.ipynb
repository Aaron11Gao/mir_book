{
 "cells": [
  {
   "cell_type": "markdown",
   "metadata": {},
   "source": [
    "# Discrete Random Variables and Sampling \n",
    "\n",
    "### George Tzanetakis, University of Victoria \n",
    "\n",
    "In this notebook we will explore discrete random variables and sampling. After defining a helper class and associated functions we will be able to create both symbolic and numeric random variables and generate samples from them. \n"
   ]
  },
  {
   "cell_type": "markdown",
   "metadata": {
    "collapsed": true
   },
   "source": [
    "Define a helper random variable class based on the scipy discrete random variable functionality providing both numeric and symbolic RVs "
   ]
  },
  {
   "cell_type": "code",
   "execution_count": 1,
   "metadata": {
    "collapsed": true
   },
   "outputs": [],
   "source": [
    "%matplotlib inline \n",
    "import matplotlib.pyplot as plt\n",
    "from scipy import stats\n",
    "import numpy as np "
   ]
  },
  {
   "cell_type": "code",
   "execution_count": 2,
   "metadata": {
    "collapsed": true
   },
   "outputs": [],
   "source": [
    "class Random_Variable: \n",
    "    \n",
    "    def __init__(self, name, values, probability_distribution): \n",
    "        self.name = name \n",
    "        self.values = values \n",
    "        self.probability_distribution = probability_distribution \n",
    "        if all(type(item) is np.int64 for item in values): \n",
    "            self.type = 'numeric'\n",
    "            self.rv = stats.rv_discrete(name = name, values = (values, probability_distribution))\n",
    "        elif all(type(item) is str for item in values): \n",
    "            self.type = 'symbolic'\n",
    "            self.rv = stats.rv_discrete(name = name, values = (np.arange(len(values)), probability_distribution))\n",
    "            self.symbolic_values = values \n",
    "        else: \n",
    "            self.type = 'undefined'\n",
    "            \n",
    "    def sample(self,size): \n",
    "        if (self.type =='numeric'): \n",
    "            return self.rv.rvs(size=size)\n",
    "        elif (self.type == 'symbolic'): \n",
    "            numeric_samples = self.rv.rvs(size=size)\n",
    "            mapped_samples = [values[x] for x in numeric_samples]\n",
    "            return mapped_samples \n",
    "            \n",
    "        "
   ]
  },
  {
   "cell_type": "markdown",
   "metadata": {},
   "source": [
    "Let's first create some random samples of symbolic random variables corresponding to a coin and a dice "
   ]
  },
  {
   "cell_type": "code",
   "execution_count": 19,
   "metadata": {},
   "outputs": [
    {
     "name": "stdout",
     "output_type": "stream",
     "text": [
      "['T', 'H', 'H', 'H', 'T', 'T', 'H', 'H', 'T', 'H', 'T', 'H', 'H', 'T', 'H', 'T', 'H', 'T', 'T', 'H']\n",
      "['six', 'two', 'one', 'three', 'three', 'four', 'three', 'one', 'two', 'four']\n"
     ]
    }
   ],
   "source": [
    "values = ['H', 'T']\n",
    "probabilities = [0.5, 0.5]\n",
    "coin = Random_Variable('coin', values, probabilities)\n",
    "samples = coin.sample(20)\n",
    "print(samples)\n",
    "\n",
    "values = ['one', 'two', 'three', 'four', 'five', 'six']\n",
    "probabilities = [1/6.] * 6\n",
    "dice = Random_Variable('dice', values, probabilities)\n",
    "samples = dice.sample(10)\n",
    "print(samples)\n"
   ]
  },
  {
   "cell_type": "markdown",
   "metadata": {},
   "source": [
    "Now let's look at a numeric random variable corresponding to a dice so that we can more easily make plots and histograms"
   ]
  },
  {
   "cell_type": "code",
   "execution_count": 27,
   "metadata": {},
   "outputs": [],
   "source": [
    "values = np.arange(1,7)\n",
    "probabilities = [1/6.] * 6\n",
    "dice = Random_Variable('dice', values, probabilities)\n",
    "samples = dice.sample(5000)\n",
    "#plt.stem(samples, markerfmt= ' ');"
   ]
  },
  {
   "cell_type": "markdown",
   "metadata": {},
   "source": [
    "Let's now look at a histogram of these generated samples. Notice that even with 500 samples the bars are not equal length so the calculated frequencies are only approximating the probabilities used to generate them "
   ]
  },
  {
   "cell_type": "code",
   "execution_count": 28,
   "metadata": {},
   "outputs": [
    {
     "data": {
      "image/png": "[encoded data removed]",
      "text/plain": [
       "<matplotlib.figure.Figure at 0x10e860710>"
      ]
     },
     "metadata": {
      "image/png": {
       "height": 250,
       "width": 386
      }
     },
     "output_type": "display_data"
    }
   ],
   "source": [
    "plt.figure()\n",
    "plt.hist(samples,bins=[1,2,3,4,5,6,7],normed=1, rwidth=0.5,align='left');"
   ]
  },
  {
   "cell_type": "markdown",
   "metadata": {},
   "source": [
    "Let's plot the cumulative histogram of the samples "
   ]
  },
  {
   "cell_type": "code",
   "execution_count": 6,
   "metadata": {},
   "outputs": [
    {
     "data": {
      "image/png": "[encoded data removed]",
      "text/plain": [
       "<matplotlib.figure.Figure at 0x1063944a8>"
      ]
     },
     "metadata": {},
     "output_type": "display_data"
    }
   ],
   "source": [
    "plt.hist(samples,bins=[1,2,3,4,5,6,7],normed=1, rwidth=0.5,align='left', cumulative=True);"
   ]
  },
  {
   "cell_type": "markdown",
   "metadata": {},
   "source": [
    "Just for fun let's generate a random melody. We will assume all notes have equal duration, there are no rests, and each note is equally likely. "
   ]
  },
  {
   "cell_type": "code",
   "execution_count": 29,
   "metadata": {},
   "outputs": [
    {
     "name": "stdout",
     "output_type": "stream",
     "text": [
      "['f4', 'a4', 'e4', 'd4', 'b4', 'c#4', 'b4', 'c4', 'g4', 'b4']\n",
      "tinynotation: 4/4 ; a#4 g#4 g#4 g#4 g#4 c4 a4 f4 d#4 f4\n"
     ]
    },
    {
     "data": {
      "text/html": [
       "\n",
       "                <div id='midiPlayerDiv2405356'></div>\n",
       "                <link rel=\"stylesheet\" href=\"http://artusi.xyz/music21j/css/m21.css\"\n",
       "                    type=\"text/css\" />\n",
       "                <script>\n",
       "                require.config({\n",
       "                    paths: {'music21': 'http://artusi.xyz/music21j/src/music21'}\n",
       "                });\n",
       "                require(['music21'], function() {\n",
       "                               mp = new music21.miditools.MidiPlayer();\n",
       "                               mp.addPlayer('#midiPlayerDiv2405356');\n",
       "                               mp.base64Load('data:audio/midi;base64,TVRoZAAAAAYAAQABBABNVHJrAAAAcAD/AwAA4ABAAP9YBAQCGAiIAJBGWogAgEYAAJBEWogAgEQAAJBEWogAgEQAAJBEWogAgEQAAJBEWogAgEQAAJA8WogAgDwAAJBFWogAgEUAAJBBWogAgEEAAJA/WogAgD8AAJBBWogAgEEAiAD/LwA=');\n",
       "                        });\n",
       "                </script>"
      ],
      "text/plain": [
       "<IPython.core.display.HTML object>"
      ]
     },
     "metadata": {},
     "output_type": "display_data"
    },
    {
     "name": "stdout",
     "output_type": "stream",
     "text": [
      "<music21.metadata.bundles.MetadataBundle {405 entries}>\n",
      "<music21.metadata.bundles.MetadataEntry: bach_bwv119_9_mxl>\n",
      "<music21.metadata.bundles.MetadataEntry: bach_bwv130_6_mxl>\n",
      "<music21.metadata.bundles.MetadataEntry: bach_bwv137_5_mxl>\n",
      "<music21.metadata.bundles.MetadataEntry: bach_bwv149_7_mxl>\n",
      "<music21.metadata.bundles.MetadataEntry: bach_bwv153_9_mxl>\n",
      "<music21.metadata.bundles.MetadataEntry: bach_bwv156_6_mxl>\n",
      "<music21.metadata.bundles.MetadataEntry: bach_bwv19_7_mxl>\n",
      "<music21.metadata.bundles.MetadataEntry: bach_bwv25_6_mxl>\n",
      "<music21.metadata.bundles.MetadataEntry: bach_bwv292_mxl>\n",
      "<music21.metadata.bundles.MetadataEntry: bach_bwv293_mxl>\n",
      "<music21.metadata.bundles.MetadataEntry: bach_bwv298_mxl>\n",
      "<music21.metadata.bundles.MetadataEntry: bach_bwv31_9_mxl>\n",
      "<music21.metadata.bundles.MetadataEntry: bach_bwv328_mxl>\n",
      "<music21.metadata.bundles.MetadataEntry: bach_bwv346_mxl>\n",
      "<music21.metadata.bundles.MetadataEntry: bach_bwv367_mxl>\n",
      "<music21.metadata.bundles.MetadataEntry: bach_bwv370_mxl>\n",
      "<music21.metadata.bundles.MetadataEntry: bach_bwv389_mxl>\n",
      "<music21.metadata.bundles.MetadataEntry: bach_bwv390_mxl>\n",
      "<music21.metadata.bundles.MetadataEntry: bach_bwv41_6_mxl>\n",
      "<music21.metadata.bundles.MetadataEntry: bach_bwv422_mxl>\n",
      "<music21.metadata.bundles.MetadataEntry: bach_bwv426_mxl>\n",
      "<music21.metadata.bundles.MetadataEntry: bach_bwv70_11_mxl>\n",
      "<music21.metadata.bundles.MetadataEntry: bach_bwv846_mxl>\n",
      "Finished processing\n"
     ]
    }
   ],
   "source": [
    "import music21 as m21 \n",
    "\n",
    "values = ['c4','c#4','d4','d#4', 'e4', 'f4','f#4', 'g4','g#4','a4','a#4','b4']\n",
    "probabilities = [1/12.]*12 \n",
    "note_rv = Random_Variable('note', values, probabilities)\n",
    "print(note_rv.sample(10))\n",
    "note_string = 'tinynotation: 4/4 ; ' + \" \".join(note_rv.sample(10))\n",
    "print(note_string)\n",
    "\n",
    "bachPiece = m21.corpus.parse('bwv66.6')\n",
    "littleMelody = m21.converter.parse(\"tinynotation: 3/4 c4 d8 f g16 a g f#\")\n",
    "randomMelody = m21.converter.parse(note_string)\n",
    "randomMelody.show('midi')\n",
    "#sp = midi.realtime.StreamPlayer(randomMelody)\n",
    "#sp.play()\n",
    "\n",
    "chorales = m21.corpus.search('bach', fileExtensions='xml')\n",
    "print(chorales)\n",
    "\n",
    "\n",
    "c = m21.note.Note(\"C#5\")\n",
    "chorale_probs = np.zeros(12)\n",
    "\n",
    "totalNotes = 0 \n",
    "transition_matrix = np.zeros([12,12])\n",
    "for chorale in chorales: \n",
    "    score = chorale.parse()\n",
    "    analyzedKey = score.analyze('key')\n",
    "    # only consider C major chorales \n",
    "    if (analyzedKey.mode == 'major') and (analyzedKey.tonic.name == 'C'): \n",
    "        print(chorale)\n",
    "        score.parts[0].pitches\n",
    "        for (i,p) in enumerate(score.parts[0].pitches):  \n",
    "            chorale_probs[p.pitchClass] += 1\n",
    "            if i < len(score.parts[0].pitches)-1:\n",
    "                transition_matrix[p.pitchClass][score.parts[0].pitches[i+1].pitchClass] += 1 \n",
    "            totalNotes += 1\n",
    "\n",
    "print('Finished processing')"
   ]
  },
  {
   "cell_type": "code",
   "execution_count": 16,
   "metadata": {},
   "outputs": [
    {
     "name": "stdout",
     "output_type": "stream",
     "text": [
      "[ 0.18492462  0.00301508  0.11758794  0.00201005  0.11457286  0.07487437\n",
      "  0.01105528  0.20603015  0.          0.17135678  0.00653266  0.1080402 ]\n",
      "[[ 0.03914591  0.          0.03558719  0.00203355  0.02084392  0.00813421\n",
      "   0.00203355  0.01881037  0.          0.01626843  0.00050839  0.03558719]\n",
      " [ 0.          0.          0.00152517  0.          0.00152517  0.          0.\n",
      "   0.          0.          0.          0.          0.        ]\n",
      " [ 0.0350788   0.00050839  0.01931876  0.          0.03355363  0.01169293\n",
      "   0.00355872  0.00915099  0.          0.00305033  0.          0.00305033]\n",
      " [ 0.          0.          0.          0.          0.          0.          0.\n",
      "   0.          0.          0.00152517  0.          0.00050839]\n",
      " [ 0.00813421  0.          0.03304525  0.          0.01576004  0.01881037\n",
      "   0.00305033  0.02236909  0.          0.01169293  0.00203355  0.        ]\n",
      " [ 0.00152517  0.          0.00305033  0.          0.02338587  0.00406711\n",
      "   0.          0.03457041  0.          0.00711744  0.          0.00203355]\n",
      " [ 0.00203355  0.          0.          0.          0.00050839  0.          0.\n",
      "   0.0045755   0.          0.00406711  0.          0.        ]\n",
      " [ 0.03558719  0.00203355  0.00915099  0.          0.01372649  0.02287748\n",
      "   0.00203355  0.05338078  0.          0.04626335  0.00254194  0.01830198]\n",
      " [ 0.          0.          0.          0.          0.          0.          0.\n",
      "   0.          0.          0.          0.          0.        ]\n",
      " [ 0.01626843  0.          0.01016777  0.          0.00254194  0.00406711\n",
      "   0.00050839  0.05388917  0.          0.04778851  0.00101678  0.03711235]\n",
      " [ 0.00203355  0.          0.          0.          0.00203355  0.          0.\n",
      "   0.          0.          0.00203355  0.00050839  0.        ]\n",
      " [ 0.0437214   0.00050839  0.00711744  0.          0.00152517  0.00610066\n",
      "   0.          0.0045755   0.          0.03304525  0.          0.01270971]]\n",
      "1990\n",
      "['d4', 'g4', 'g4', 'a#4', 'c4', 'f#4', 'd4', 'g#4', 'd4', 'd#4', 'd#4', 'd#4', 'g#4', 'c#4', 'c#4', 'g4', 'b4', 'a#4', 'd#4', 'e4']\n",
      "tinynotation: 4/4 ; c4 a4 a#4 c#4 a4 b4 d4 c4 c#4 g4\n"
     ]
    },
    {
     "data": {
      "text/html": [
       "\n",
       "                <div id='midiPlayerDiv2404835'></div>\n",
       "                <link rel=\"stylesheet\" href=\"http://artusi.xyz/music21j/css/m21.css\"\n",
       "                    type=\"text/css\" />\n",
       "                <script>\n",
       "                require.config({\n",
       "                    paths: {'music21': 'http://artusi.xyz/music21j/src/music21'}\n",
       "                });\n",
       "                require(['music21'], function() {\n",
       "                               mp = new music21.miditools.MidiPlayer();\n",
       "                               mp.addPlayer('#midiPlayerDiv2404835');\n",
       "                               mp.base64Load('data:audio/midi;base64,TVRoZAAAAAYAAQABBABNVHJrAAAAcAD/AwAA4ABAAP9YBAQCGAiIAJA8WogAgDwAAJBFWogAgEUAAJBGWogAgEYAAJA9WogAgD0AAJBFWogAgEUAAJBHWogAgEcAAJA+WogAgD4AAJA8WogAgDwAAJA9WogAgD0AAJBDWogAgEMAiAD/LwA=');\n",
       "                        });\n",
       "                </script>"
      ],
      "text/plain": [
       "<IPython.core.display.HTML object>"
      ]
     },
     "metadata": {},
     "output_type": "display_data"
    }
   ],
   "source": [
    "        \n",
    "print(chorale_probs / totalNotes)\n",
    "transition_matrix /= transition_matrix.sum()\n",
    "print(transition_matrix)\n",
    "print(totalNotes)\n",
    "#print('Total Notes = ', totalNotes)\n",
    "\n",
    "note_rv = Random_Variable('note', values, probabilities)\n",
    "print(note_rv.sample(20))\n",
    "note_string = 'tinynotation: 4/4 ; ' + \" \".join(note_rv.sample(10))\n",
    "print(note_string)\n",
    "\n",
    "randomChoraleMelody = m21.converter.parse(note_string)\n",
    "randomChoraleMelody.show('midi')\n",
    "\n"
   ]
  },
  {
   "cell_type": "markdown",
   "metadata": {},
   "source": [
    "Let's now estimate the frequency of the event *roll even number* in different ways. \n",
    "First let's count the number of even numbers in the generated samples. Then let's \n",
    "take the sum of the counts of the individual estimated probabilities. \n"
   ]
  },
  {
   "cell_type": "code",
   "execution_count": 30,
   "metadata": {},
   "outputs": [
    {
     "name": "stdout",
     "output_type": "stream",
     "text": [
      "0.499\n",
      "Estimates of 2,4,6 =  (0.1596, 0.1744, 0.165)\n",
      "Direct estimate =  0.499\n",
      "Sum of estimates =  0.499\n",
      "Theoretical value =  0.5\n"
     ]
    }
   ],
   "source": [
    "\n",
    "# we can also write the predicates directly using lambda notation \n",
    "est_even = len([x for x in samples if x%2==0]) / len(samples)\n",
    "est_2 = len([x for x in samples if x==2]) / len(samples)\n",
    "est_4 = len([x for x in samples if x==4]) / len(samples)\n",
    "est_6 = len([x for x in samples if x==6]) / len(samples)\n",
    "print(est_even)\n",
    "# Let's print some estimates \n",
    "print('Estimates of 2,4,6 = ', (est_2, est_4, est_6))\n",
    "print('Direct estimate = ', est_even) \n",
    "print('Sum of estimates = ', est_2 + est_4 + est_6)\n",
    "print('Theoretical value = ', 0.5)\n",
    "\n"
   ]
  },
  {
   "cell_type": "markdown",
   "metadata": {
    "collapsed": true
   },
   "source": [
    "Notice that we can always estimate the probability of an event by simply counting how many times it occurs in the samples of an experiment. However if we have multiple events we are interested in then it can be easier to calculate the probabilities of the values of invdividual random variables and then use the rules of probability to estimate the probabilities of more complex events. "
   ]
  },
  {
   "cell_type": "code",
   "execution_count": null,
   "metadata": {},
   "outputs": [],
   "source": [
    "import numpy as np\n",
    "import IPython.display as ipd\n",
    "\n",
    "\n",
    "framerate = 44100\n",
    "t = np.linspace(0,5,framerate*5)\n",
    "data = np.sin(2*np.pi*220*t) + np.sin(2*np.pi*224*t)\n",
    "ipd.Audio(data,rate=framerate)\n"
   ]
  },
  {
   "cell_type": "code",
   "execution_count": null,
   "metadata": {
    "collapsed": true
   },
   "outputs": [],
   "source": []
  }
 ],
 "metadata": {
  "kernelspec": {
   "display_name": "Python 3",
   "language": "python",
   "name": "python3"
  },
  "language_info": {
   "codemirror_mode": {
    "name": "ipython",
    "version": 3
   },
   "file_extension": ".py",
   "mimetype": "text/x-python",
   "name": "python",
   "nbconvert_exporter": "python",
   "pygments_lexer": "ipython3",
   "version": "3.6.0"
  }
 },
 "nbformat": 4,
 "nbformat_minor": 2
}
